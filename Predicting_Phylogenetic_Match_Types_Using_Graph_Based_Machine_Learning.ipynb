{
  "nbformat": 4,
  "nbformat_minor": 0,
  "metadata": {
    "colab": {
      "provenance": [],
      "authorship_tag": "ABX9TyP2NHBIJE79FS/BSOg3azLF",
      "include_colab_link": true
    },
    "kernelspec": {
      "name": "python3",
      "display_name": "Python 3"
    },
    "language_info": {
      "name": "python"
    }
  },
  "cells": [
    {
      "cell_type": "markdown",
      "metadata": {
        "id": "view-in-github",
        "colab_type": "text"
      },
      "source": [
        "<a href=\"https://colab.research.google.com/github/Sanarazaaa/Predicting-Phylogenetic-Match-Types-Using-Graph-Based-Machine-Learning/blob/main/Predicting_Phylogenetic_Match_Types_Using_Graph_Based_Machine_Learning.ipynb\" target=\"_parent\"><img src=\"https://colab.research.google.com/assets/colab-badge.svg\" alt=\"Open In Colab\"/></a>"
      ]
    },
    {
      "cell_type": "code",
      "execution_count": 11,
      "metadata": {
        "colab": {
          "base_uri": "https://localhost:8080/"
        },
        "id": "vT8AbISaSub3",
        "outputId": "aa780400-5e37-4809-9469-56f6c26ca55f"
      },
      "outputs": [
        {
          "output_type": "stream",
          "name": "stdout",
          "text": [
            "                         precision    recall  f1-score   support\n",
            "\n",
            "                              0.00      0.00      0.00         1\n",
            "             1BL to 1BT       1.00      1.00      1.00      1787\n",
            "         1BL to many BT       0.30      0.05      0.08        61\n",
            "                Extinct       0.85      1.00      0.92        29\n",
            "          Invalid taxon       0.00      0.00      0.00         1\n",
            "         Many BL to 1BT       0.86      0.98      0.92       376\n",
            "Newly described species       0.00      0.00      0.00         3\n",
            "\n",
            "               accuracy                           0.97      2258\n",
            "              macro avg       0.43      0.43      0.42      2258\n",
            "           weighted avg       0.95      0.97      0.96      2258\n",
            "\n"
          ]
        },
        {
          "output_type": "stream",
          "name": "stderr",
          "text": [
            "/usr/local/lib/python3.12/dist-packages/sklearn/metrics/_classification.py:1565: UndefinedMetricWarning: Precision is ill-defined and being set to 0.0 in labels with no predicted samples. Use `zero_division` parameter to control this behavior.\n",
            "  _warn_prf(average, modifier, f\"{metric.capitalize()} is\", len(result))\n",
            "/usr/local/lib/python3.12/dist-packages/sklearn/metrics/_classification.py:1565: UndefinedMetricWarning: Precision is ill-defined and being set to 0.0 in labels with no predicted samples. Use `zero_division` parameter to control this behavior.\n",
            "  _warn_prf(average, modifier, f\"{metric.capitalize()} is\", len(result))\n",
            "/usr/local/lib/python3.12/dist-packages/sklearn/metrics/_classification.py:1565: UndefinedMetricWarning: Precision is ill-defined and being set to 0.0 in labels with no predicted samples. Use `zero_division` parameter to control this behavior.\n",
            "  _warn_prf(average, modifier, f\"{metric.capitalize()} is\", len(result))\n"
          ]
        }
      ],
      "source": [
        "import pandas as pd\n",
        "import networkx as nx\n",
        "from sklearn.model_selection import train_test_split\n",
        "from sklearn.ensemble import RandomForestClassifier\n",
        "from sklearn.metrics import classification_report\n",
        "from sklearn.preprocessing import LabelEncoder\n",
        "import Levenshtein\n",
        "\n",
        "# Load CSV\n",
        "df = pd.read_csv('/content/BirdLife-BirdTree crosswalk.csv')\n",
        "\n",
        "# Fill NaNs with empty string and convert to string type\n",
        "df['Species1'] = df['Species1'].fillna('').astype(str)\n",
        "df['Species3'] = df['Species3'].fillna('').astype(str)\n",
        "df['Match.type'] = df['Match.type'].fillna('').astype(str)\n",
        "\n",
        "# Build graph\n",
        "G = nx.Graph()\n",
        "for _, row in df.iterrows():\n",
        "    G.add_edge(row['Species1'], row['Species3'], match_type=row['Match.type'])\n",
        "\n",
        "# Approximate betweenness\n",
        "bet_centrality = nx.betweenness_centrality(G, k=500, normalized=True, seed=42)\n",
        "clos_centrality = nx.closeness_centrality(G)\n",
        "\n",
        "edges_features = []\n",
        "labels = []\n",
        "\n",
        "for u, v, data in G.edges(data=True):\n",
        "    deg_u = G.degree(u)\n",
        "    deg_v = G.degree(v)\n",
        "    bet_u = bet_centrality[u]\n",
        "    bet_v = bet_centrality[v]\n",
        "    clos_u = clos_centrality[u]\n",
        "    clos_v = clos_centrality[v]\n",
        "\n",
        "    # Ensure strings\n",
        "    u_str = str(u)\n",
        "    v_str = str(v)\n",
        "\n",
        "    lev_sim = Levenshtein.ratio(u_str, v_str)\n",
        "\n",
        "    # Genus comparison (safe)\n",
        "    genus_same = int(u_str.split()[0] == v_str.split()[0]) if u_str and v_str else 0\n",
        "\n",
        "    features = [deg_u, deg_v, bet_u, bet_v, clos_u, clos_v, lev_sim, genus_same]\n",
        "    edges_features.append(features)\n",
        "    labels.append(data['match_type'])\n",
        "\n",
        "# Encode labels\n",
        "le = LabelEncoder()\n",
        "y = le.fit_transform(labels)\n",
        "X = edges_features\n",
        "\n",
        "# Train-test split\n",
        "X_train, X_test, y_train, y_test = train_test_split(X, y, test_size=0.2, random_state=42)\n",
        "\n",
        "# Train classifier\n",
        "clf = RandomForestClassifier(n_estimators=100, random_state=42)\n",
        "clf.fit(X_train, y_train)\n",
        "\n",
        "# Predict and evaluate\n",
        "y_pred = clf.predict(X_test)\n",
        "print(classification_report(y_test, y_pred, target_names=le.classes_))\n"
      ]
    },
    {
      "cell_type": "code",
      "source": [
        "import pandas as pd\n",
        "\n",
        "# Assuming your dataframe is df and the class column is 'Match.type'\n",
        "class_counts = df['Match.type'].value_counts()\n",
        "print(class_counts)\n"
      ],
      "metadata": {
        "colab": {
          "base_uri": "https://localhost:8080/"
        },
        "id": "qcdXFvRxbgwK",
        "outputId": "ce3bf21b-0322-4f74-df8a-c48e5205616f"
      },
      "execution_count": 15,
      "outputs": [
        {
          "output_type": "stream",
          "name": "stdout",
          "text": [
            "Match.type\n",
            "1BL to 1BT                 8960\n",
            "Many BL to 1BT             1933\n",
            "1BL to many BT              225\n",
            "Extinct                     143\n",
            "Newly described species      24\n",
            "Invalid taxon                 4\n",
            "Other                         2\n",
            "Name: count, dtype: int64\n"
          ]
        }
      ]
    },
    {
      "cell_type": "code",
      "source": [
        "import matplotlib.pyplot as plt\n",
        "\n",
        "class_counts.plot(kind='bar')\n",
        "plt.ylabel('Number of edges')\n",
        "plt.title('Class distribution (Match.type)')\n",
        "plt.show()\n"
      ],
      "metadata": {
        "colab": {
          "base_uri": "https://localhost:8080/",
          "height": 628
        },
        "id": "_vS9fltfbnKF",
        "outputId": "33745268-da3a-4bfb-cab0-19378601d0ca"
      },
      "execution_count": 16,
      "outputs": [
        {
          "output_type": "display_data",
          "data": {
            "text/plain": [
              "<Figure size 640x480 with 1 Axes>"
            ],
            "image/png": "[encoded data removed]"
          },
          "metadata": {}
        }
      ]
    },
    {
      "cell_type": "code",
      "source": [
        "import pandas as pd\n",
        "import networkx as nx\n",
        "from sklearn.model_selection import train_test_split\n",
        "from sklearn.ensemble import RandomForestClassifier\n",
        "from sklearn.metrics import classification_report\n",
        "from sklearn.preprocessing import LabelEncoder\n",
        "import Levenshtein\n",
        "from imblearn.over_sampling import SMOTE\n",
        "from collections import Counter\n",
        "\n",
        "# Load CSV\n",
        "df = pd.read_csv('/content/BirdLife-BirdTree crosswalk.csv')\n",
        "\n",
        "# Fill NaNs and convert to string\n",
        "df['Species1'] = df['Species1'].fillna('').astype(str)\n",
        "df['Species3'] = df['Species3'].fillna('').astype(str)\n",
        "df['Match.type'] = df['Match.type'].fillna('').astype(str)\n",
        "\n",
        "# Merge extremely rare classes into 'Other' (<3 samples to ensure >= 2 samples after split)\n",
        "value_counts = df['Match.type'].value_counts()\n",
        "df['Match.type'] = df['Match.type'].apply(lambda x: x if value_counts[x] >= 3 else 'Other')\n",
        "\n",
        "\n",
        "# Build graph\n",
        "G = nx.Graph()\n",
        "for _, row in df.iterrows():\n",
        "    # Only add edges if both species names are valid strings\n",
        "    if row['Species1'] and row['Species3']:\n",
        "        G.add_edge(row['Species1'], row['Species3'], match_type=row['Match.type'])\n",
        "\n",
        "\n",
        "# Approximate betweenness and closeness for speed\n",
        "bet_centrality = nx.betweenness_centrality(G, k=min(len(G), 500), normalized=True, seed=42)\n",
        "clos_centrality = nx.closeness_centrality(G)\n",
        "\n",
        "\n",
        "# Compute edge features\n",
        "edges_features = []\n",
        "labels = []\n",
        "\n",
        "for u, v, data in G.edges(data=True):\n",
        "    # Ensure nodes exist in centrality dictionaries before accessing\n",
        "    if u in bet_centrality and v in bet_centrality and u in clos_centrality and v in clos_centrality:\n",
        "        deg_u = G.degree(u)\n",
        "        deg_v = G.degree(v)\n",
        "        bet_u = bet_centrality[u]\n",
        "        bet_v = bet_centrality[v]\n",
        "        clos_u = clos_centrality[u]\n",
        "        clos_v = clos_centrality[v]\n",
        "\n",
        "        u_str = str(u)\n",
        "        v_str = str(v)\n",
        "\n",
        "        lev_sim = Levenshtein.ratio(u_str, v_str)\n",
        "        genus_same = int(u_str.split()[0] == v_str.split()[0]) if u_str and v_str else 0\n",
        "\n",
        "\n",
        "        features = [deg_u, deg_v, bet_u, bet_v, clos_u, clos_v, lev_sim, genus_same]\n",
        "        edges_features.append(features)\n",
        "        labels.append(data['match_type'])\n",
        "\n",
        "# Encode labels\n",
        "le = LabelEncoder()\n",
        "y = le.fit_transform(labels)\n",
        "X = edges_features\n",
        "\n",
        "# Train-test split with stratification\n",
        "X_train, X_test, y_train, y_test = train_test_split(\n",
        "    X, y, test_size=0.2, random_state=42, stratify=y\n",
        ")\n",
        "\n",
        "# Adaptive SMOTE: adjust k_neighbors for smallest class\n",
        "counter = Counter(y_train)\n",
        "min_samples = min(counter.values())\n",
        "k_neighbors = min(5, min_samples - 1) if min_samples > 1 else 1\n",
        "\n",
        "sm = SMOTE(random_state=42, k_neighbors=k_neighbors)\n",
        "X_train_res, y_train_res = sm.fit_resample(X_train, y_train)\n",
        "\n",
        "# Train classifier with balanced class weight\n",
        "clf = RandomForestClassifier(n_estimators=100, random_state=42, class_weight='balanced')\n",
        "clf.fit(X_train_res, y_train_res)\n",
        "\n",
        "# Predict and evaluate\n",
        "y_pred = clf.predict(X_test)\n",
        "print(classification_report(y_test, y_pred, target_names=le.classes_, zero_division=0))\n",
        "\n",
        "# Feature importance\n",
        "importances = clf.feature_importances_\n",
        "feature_names = ['deg_u','deg_v','bet_u','bet_v','clos_u','clos_v','lev_sim','genus_same']\n",
        "for name, imp in zip(feature_names, importances):\n",
        "    print(f\"{name}: {imp:.3f}\")"
      ],
      "metadata": {
        "colab": {
          "base_uri": "https://localhost:8080/"
        },
        "id": "j3roknTAWYpf",
        "outputId": "84bc2b86-ec19-4963-e04c-cf8394f941c2"
      },
      "execution_count": 14,
      "outputs": [
        {
          "output_type": "stream",
          "name": "stdout",
          "text": [
            "                precision    recall  f1-score   support\n",
            "\n",
            "    1BL to 1BT       1.00      1.00      1.00      1792\n",
            "1BL to many BT       0.15      0.67      0.25        45\n",
            "Many BL to 1BT       0.93      0.58      0.71       387\n",
            "\n",
            "      accuracy                           0.92      2224\n",
            "     macro avg       0.69      0.75      0.65      2224\n",
            "  weighted avg       0.97      0.92      0.93      2224\n",
            "\n",
            "deg_u: 0.174\n",
            "deg_v: 0.105\n",
            "bet_u: 0.011\n",
            "bet_v: 0.002\n",
            "clos_u: 0.202\n",
            "clos_v: 0.227\n",
            "lev_sim: 0.242\n",
            "genus_same: 0.038\n"
          ]
        }
      ]
    }
  ]
}